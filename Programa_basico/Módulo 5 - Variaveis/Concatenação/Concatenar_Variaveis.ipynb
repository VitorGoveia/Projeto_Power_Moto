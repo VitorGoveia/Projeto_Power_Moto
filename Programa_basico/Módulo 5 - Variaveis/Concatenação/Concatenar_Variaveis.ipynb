{
 "cells": [
  {
   "cell_type": "code",
   "execution_count": 1,
   "metadata": {},
   "outputs": [
    {
     "name": "stdout",
     "output_type": "stream",
     "text": [
      "O faturamento da loja foi 1500. O custo da loja foi 500. Assim o lucro da loja foi 1000 reais\n"
     ]
    },
    {
     "data": {
      "text/plain": [
       "int"
      ]
     },
     "execution_count": 1,
     "metadata": {},
     "output_type": "execute_result"
    }
   ],
   "source": [
    "faturamento = 1500  \n",
    "custo = 500\n",
    "\n",
    "lucro = faturamento - custo \n",
    "\n",
    "\n",
    "print('O faturamento da loja foi ' + str(faturamento) + '. O custo da loja foi ' + str(custo) + '. Assim o lucro da loja foi ' + str(lucro) + ' reais')\n",
    "\n",
    "type(faturamento)\n",
    "\n"
   ]
  },
  {
   "cell_type": "markdown",
   "metadata": {},
   "source": [
    "##### FORMAT\n",
    "Format é um método, que transforma as variaveis em textos de forma simplificada"
   ]
  },
  {
   "cell_type": "code",
   "execution_count": 2,
   "metadata": {},
   "outputs": [
    {
     "name": "stdout",
     "output_type": "stream",
     "text": [
      "O faturamento da loja foi 1500 . O custo da loja foi 500. Assim o lucro da loja foi 1000 reais\n"
     ]
    }
   ],
   "source": [
    "faturamento = 1500  \n",
    "custo = 500\n",
    "\n",
    "lucro = faturamento - custo \n",
    "\n",
    "print('O faturamento da loja foi {} . O custo da loja foi {}. Assim o lucro da loja foi {} reais'.format(faturamento, custo, lucro))"
   ]
  },
  {
   "cell_type": "markdown",
   "metadata": {},
   "source": [
    "##### F.String\n",
    "É uma forma reduzida do format"
   ]
  },
  {
   "cell_type": "code",
   "execution_count": 1,
   "metadata": {},
   "outputs": [
    {
     "name": "stdout",
     "output_type": "stream",
     "text": [
      "O faturamento da loja foi 1500 . O custo da loja foi 500. Assim o lucro da loja foi 1000 reais\n"
     ]
    }
   ],
   "source": [
    "faturamento = 1500  \n",
    "custo = 500\n",
    "\n",
    "lucro = faturamento - custo \n",
    "\n",
    "print(f'O faturamento da loja foi {faturamento} . O custo da loja foi {custo}. Assim o lucro da loja foi {lucro} reais')"
   ]
  },
  {
   "cell_type": "markdown",
   "metadata": {},
   "source": [
    "##### Mudança de variaveis\n",
    "basta colocar o tipo da variavel em parenteses com o valor dentro, exemplo: </br>\n",
    "int(faturamento)"
   ]
  },
  {
   "cell_type": "code",
   "execution_count": 9,
   "metadata": {},
   "outputs": [
    {
     "name": "stdout",
     "output_type": "stream",
     "text": [
      "1000\n",
      "50.0\n"
     ]
    }
   ],
   "source": [
    "faturamento = int(input(\"Digite o valor do faturamento: \"))\n",
    "custo = float(input(\"Digite o valor do faturamento: \"))\n",
    "\n",
    "print(faturamento)\n",
    "print(custo)"
   ]
  }
 ],
 "metadata": {
  "kernelspec": {
   "display_name": "Python 3",
   "language": "python",
   "name": "python3"
  },
  "language_info": {
   "codemirror_mode": {
    "name": "ipython",
    "version": 3
   },
   "file_extension": ".py",
   "mimetype": "text/x-python",
   "name": "python",
   "nbconvert_exporter": "python",
   "pygments_lexer": "ipython3",
   "version": "3.12.0"
  }
 },
 "nbformat": 4,
 "nbformat_minor": 2
}
