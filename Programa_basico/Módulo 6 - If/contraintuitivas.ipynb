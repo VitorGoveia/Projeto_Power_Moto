{
 "cells": [
  {
   "cell_type": "markdown",
   "metadata": {},
   "source": [
    "### comparações contraintuitivas:\n",
    "\n",
    "basicamente é uma forma de verificar um valor vazio de uma variavel, segue exemplos"
   ]
  },
  {
   "cell_type": "code",
   "execution_count": 4,
   "metadata": {},
   "outputs": [
    {
     "name": "stdout",
     "output_type": "stream",
     "text": [
      "ERRO, faturamento ou custo sem valor\n"
     ]
    }
   ],
   "source": [
    "#EXEMPLO 1:\n",
    "\n",
    "faturamento = input(\"Digite o faturamento: \")\n",
    "custo = input(\"Digite o custo:\")\n",
    "\n",
    "if faturamento == '' and custo == '':\n",
    "    print(\"ERRO, faturamento ou custo sem valor\")\n",
    "else:\n",
    "    lucro = int(faturamento) - int(custo)\n",
    "    print(\"O lucro foi de {}\".format(lucro))"
   ]
  },
  {
   "cell_type": "markdown",
   "metadata": {},
   "source": [
    "### no Exemplo 1 um criamos uma condição para verificar se o valor é vazio ou não"
   ]
  },
  {
   "cell_type": "code",
   "execution_count": 7,
   "metadata": {},
   "outputs": [
    {
     "name": "stdout",
     "output_type": "stream",
     "text": [
      "ERRO, faturamento ou custo sem valor\n"
     ]
    }
   ],
   "source": [
    "#EXEMPLO 2:\n",
    "\n",
    "faturamento = input(\"Digite o faturamento: \")\n",
    "custo = input(\"Digite o custo:\")\n",
    "\n",
    "if faturamento and custo:\n",
    "    lucro = int(faturamento) - int(custo)\n",
    "    print(\"O lucro foi de {}\".format(lucro))\n",
    "else:\n",
    "    print(\"ERRO, faturamento ou custo sem valor\")"
   ]
  },
  {
   "cell_type": "markdown",
   "metadata": {},
   "source": [
    "### no Exemplo 2 digitamos apenas a variavel, isso faz com que seja verificado se há um valor na variavel, por isso os resultados foram trocados no exemplo. Pois no segundo metodo é verificado valor dentro da condição"
   ]
  }
 ],
 "metadata": {
  "kernelspec": {
   "display_name": "Python 3",
   "language": "python",
   "name": "python3"
  },
  "language_info": {
   "codemirror_mode": {
    "name": "ipython",
    "version": 3
   },
   "file_extension": ".py",
   "mimetype": "text/x-python",
   "name": "python",
   "nbconvert_exporter": "python",
   "pygments_lexer": "ipython3",
   "version": "3.12.0"
  }
 },
 "nbformat": 4,
 "nbformat_minor": 2
}
