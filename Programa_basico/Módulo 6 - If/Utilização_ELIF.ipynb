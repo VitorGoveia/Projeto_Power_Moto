{
 "cells": [
  {
   "cell_type": "markdown",
   "metadata": {},
   "source": [
    "#### Fazer um programa que diga as diferentes compensaçôes de acordo com a meta\n",
    "\n",
    "Regra de bônus:</br>\n",
    "Se vendeu menos que a meta, não ganha bônus </br>\n",
    "Se vendeu acima da meta, ganha 3% do valor </br>\n",
    "Se vendeu mais que o dobro, ganha 7% do valor.</br>\n"
   ]
  },
  {
   "cell_type": "code",
   "execution_count": 7,
   "metadata": {},
   "outputs": [
    {
     "name": "stdout",
     "output_type": "stream",
     "text": [
      "Ganhou 1200.03 reais de bonus\n"
     ]
    }
   ],
   "source": [
    "meta = 20000\n",
    "vendas = 40001\n",
    "\n",
    "if vendas < meta:\n",
    "    print('Não ganhou bônus')\n",
    "elif vendas > (meta*2):\n",
    "    bonus = 0.03 * vendas\n",
    "    print('Ganhou {} reais de bonus'.format(bonus))\n",
    "else:\n",
    "    bonus = 0.03 * vendas\n",
    "    print('Ganhou {} reais de bonus'.format(bonus))"
   ]
  },
  {
   "cell_type": "markdown",
   "metadata": {},
   "source": [
    "#### AND e OR\n",
    "\n",
    "AND (E) -> ambas afirmações verdadeiras\n",
    "\n",
    "OR (OU) -> uma ou outra verdadeira"
   ]
  },
  {
   "cell_type": "code",
   "execution_count": 2,
   "metadata": {},
   "outputs": [
    {
     "name": "stdout",
     "output_type": "stream",
     "text": [
      "falso\n",
      "verdadeiro\n"
     ]
    }
   ],
   "source": [
    "numero_1 = 10\n",
    "numero_2 = 9\n",
    "numero_3 = 10\n",
    "\n",
    "if numero_1 == numero_3 and numero_2 == numero_3:\n",
    "    print(\"verdadeiro\")\n",
    "else:\n",
    "    print(\"falso\")\n",
    "\n",
    "if numero_1 == numero_3 or numero_2 == numero_3:\n",
    "    print(\"verdadeiro\")\n",
    "else:\n",
    "    print(\"falso\")"
   ]
  }
 ],
 "metadata": {
  "kernelspec": {
   "display_name": "Python 3",
   "language": "python",
   "name": "python3"
  },
  "language_info": {
   "codemirror_mode": {
    "name": "ipython",
    "version": 3
   },
   "file_extension": ".py",
   "mimetype": "text/x-python",
   "name": "python",
   "nbconvert_exporter": "python",
   "pygments_lexer": "ipython3",
   "version": "3.12.0"
  }
 },
 "nbformat": 4,
 "nbformat_minor": 2
}
